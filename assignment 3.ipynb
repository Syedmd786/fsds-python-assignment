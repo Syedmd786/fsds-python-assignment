{
 "cells": [
  {
   "cell_type": "code",
   "execution_count": null,
   "id": "d4dcaf76",
   "metadata": {},
   "outputs": [],
   "source": [
    "1. Why are functions advantageous to have in your programs?\n",
    "ans: Code reuse: Functions allow you to reuse code by encapsulating a set of instructions that can be executed repeatedly throughout the program.\n",
    "        This avoids redundancy in the code and makes it more efficient to maintain.\n",
    "\n",
    "     Modularity: Functions help you to break down complex tasks into smaller, more manageable parts. \n",
    "          This allows you to write code in a more modular fashion, making it easier to understand, debug and maintain.\n",
    "     easy understanding:code become organised and easy to understand"
   ]
  },
  {
   "cell_type": "code",
   "execution_count": null,
   "id": "753a8b84",
   "metadata": {},
   "outputs": [],
   "source": [
    "When does the code in a function run: when its specified or when its called?\n",
    "ans:A Function in Python is a piece of code which runs when it is called.\n",
    "It is used to utilize the code in more than one place in a program. \n",
    "It is also called method or procedure."
   ]
  },
  {
   "cell_type": "code",
   "execution_count": null,
   "id": "ba56c2f1",
   "metadata": {},
   "outputs": [],
   "source": [
    "What statement creates a function?\n",
    "ans:the def keyword\n",
    "Basic Syntax for Defining a Function in Python\n",
    "In Python, you define a function with the def keyword, then write the function identifier (name) followed by parentheses and a colon.\n",
    "The next thing you have to do is make sure you indent with a tab or 4 spaces, and then specify what you want the function to do for you."
   ]
  },
  {
   "cell_type": "code",
   "execution_count": null,
   "id": "7b629f26",
   "metadata": {},
   "outputs": [],
   "source": [
    "What is the difference between a function and a function call?\n",
    "ans:A function is a block of code that performs a specific task, and can be called or executed when needed.\n",
    "It is essentially a reusable piece of code that can take input arguments, process them, and return output.\n",
    "\n",
    "On the other hand, a function call is the act of invoking or executing a function in order to make it perform its intended task.\n",
    "When a function is called, the control is transferred to the function, and it starts executing from the first line of code within the function.\n",
    "The input arguments passed to the function are processed, and the function may return an output value or modify some other data based on its logic.\n",
    "\n",
    "So, in summary, the main difference between a function and a function call is that a function is a defined piece of code that performs a specific task, while a function call is the act of executing or invoking that function to perform its task with the provided input arguments.\n"
   ]
  },
  {
   "cell_type": "code",
   "execution_count": null,
   "id": "a705d61f",
   "metadata": {},
   "outputs": [],
   "source": [
    "How many global scopes are there in a Python program? How many local scopes?\n",
    "ans:In Python, there is only one global scope per program, which is created when the program starts executing.\n",
    "    All variables declared outside of any functions or classes are in this global scope and can be accessed throughout the program.\n",
    "\n",
    "On the other hand, local scopes are created every time a function is called, and they are destroyed when the function returns. \n",
    "Each function call has its own local scope, which is used to store the variables that are defined within the function.\n",
    "These variables are not accessible outside of the function.\n",
    "\n",
    "Therefore, the number of global scopes in a Python program is one, while the number of local scopes depends on the number of function calls made during the execution of the program. \n",
    "Each function call creates a new local scope, and these scopes are destroyed when the function returns.\n"
   ]
  },
  {
   "cell_type": "code",
   "execution_count": null,
   "id": "fd232814",
   "metadata": {},
   "outputs": [],
   "source": [
    "What happens to variables in a local scope when the function call returns?\n",
    "ans:When a function call returns in Python, the local scope that was created for that function is destroyed, and all the variables that were defined within that local scope are removed from memory.\n",
    "\n",
    "This means that the values assigned to local variables within the function are no longer accessible outside of the function once the function returns.\n",
    "Any attempt to access those variables outside of the function will result in a NameError."
   ]
  },
  {
   "cell_type": "code",
   "execution_count": null,
   "id": "3df56564",
   "metadata": {},
   "outputs": [],
   "source": [
    "What is the concept of a return value? Is it possible to have a return value in an expression?\n",
    "ans:In programming, a return value is the value that a function sends back to the calling statement or expression.\n",
    "When a function is called, it can process input arguments and perform some computation, and then return a value to the caller.\n",
    "The return value can then be used in further computations, assignments, or comparisons.\n",
    "yes, it is possible to have a return value in an expression in python.\n",
    "a function call can be used as an expression, and the returned value can be used in further computations or expressions.\n",
    "For example, consider the following Python code:\n",
    "\n",
    "python\n",
    "Copy code\n",
    "def add_numbers(x, y):\n",
    "    return x + y\n",
    "\n",
    "result = add_numbers(3, 5) * 2\n",
    "print(result)  # Output: 16"
   ]
  },
  {
   "cell_type": "code",
   "execution_count": null,
   "id": "9e6c2f4e",
   "metadata": {},
   "outputs": [],
   "source": [
    "If a function does not have a return statement, what is the return value of a call to that function?\n",
    "ans:If a function in Python does not have a return statement, then the return value of a call to that function will be 'None'.\n",
    "'None' is a built-in Python object that represents the absence of a value.\n",
    "It is used as a default return value when no other value is specified in a return statement."
   ]
  },
  {
   "cell_type": "code",
   "execution_count": null,
   "id": "1e4db14d",
   "metadata": {},
   "outputs": [],
   "source": [
    "How do you make a function variable refer to the global variable?\n",
    "ans:In Python, if you want to make a function variable refer to a global variable with the same name, you can use the global keyword to declare the variable as a global variable within the function.\n",
    "This tells Python to use the global variable instead of creating a new local variable with the same name.\n",
    "x = 10\n",
    "\n",
    "def print_x():\n",
    "    global x\n",
    "    print(x)\n",
    "\n",
    "print_x()  # Output: 10"
   ]
  },
  {
   "cell_type": "code",
   "execution_count": null,
   "id": "963f50ea",
   "metadata": {},
   "outputs": [],
   "source": [
    "10. What is the data type of None?\n",
    "ans:The data type of None is 'NoneType'."
   ]
  },
  {
   "cell_type": "code",
   "execution_count": null,
   "id": "99787e55",
   "metadata": {},
   "outputs": [],
   "source": [
    "11. What does the sentence import areallyourpetsnamederic do?\n",
    "ans:The sentence \"import areallyourpetsnamederic\" does not have any real meaning or purpose in Python.\n",
    "It is not a valid Python module or package that can be imported.\n",
    "\n",
    "In Python, the import statement is used to import modules or packages that contain functions, classes, or other objects that can be used in a Python program.\n",
    "When you import a module, Python executes the code in the module and adds the names of the objects defined in the module to the global namespace of your program."
   ]
  },
  {
   "cell_type": "code",
   "execution_count": null,
   "id": "58ab7333",
   "metadata": {},
   "outputs": [],
   "source": [
    "12. If you had a bacon() feature in a spam module, what would you call it after importing spam?\n",
    "ans:If you have a bacon() function defined in a module called spam, you can import the spam module in your Python program using the import statement\n",
    "import spam\n",
    "Once you have imported the spam module, you can call the bacon() function using the dot notation:\n",
    "spam.bacon()\n",
    "This tells Python to look for the bacon() function within the spam module, and call it as a method of the spam module object.\n",
    "Alternatively, you can use the from ... import ... syntax to import the bacon() function directly into your program's namespace, like this:\n",
    "from spam import bacon\n",
    "This makes the bacon() function available directly in your program's namespace, so you can call it without using the spam."
   ]
  },
  {
   "cell_type": "code",
   "execution_count": null,
   "id": "392415f9",
   "metadata": {},
   "outputs": [],
   "source": [
    "What can you do to save a programme from crashing if it encounters an error?\n",
    "ans:In Python, you can use exception handling to save your program from crashing when it encounters an error.\n",
    "Exception handling allows you to catch and handle errors that occur during the execution of your program, so that your program can recover from the error and continue running.\n",
    "\n",
    "The basic syntax for exception handling in Python is as follows:\n",
    "    try:\n",
    "    # code that may raise an exception\n",
    "except ExceptionType:\n",
    "    # code to handle the exception\n",
    "finally:\n",
    "Here's how it works:\n",
    "\n",
    "The try block contains the code that may raise an exception.\n",
    "If an exception is raised, Python jumps to the corresponding except block, which contains the code to handle the exception.\n",
    "After the except block is executed (if an exception was raised), the finally block is executed, which contains code that should be executed whether or not an exception was raised.\n",
    "\n",
    "By using exception handling, you can catch and handle errors in your program and take appropriate action to recover from them.\n",
    "For example, you might display an error message to the user, log the error to a file, or gracefully terminate the program."
   ]
  },
  {
   "cell_type": "code",
   "execution_count": null,
   "id": "e85b1084",
   "metadata": {},
   "outputs": [],
   "source": [
    "14. What is the purpose of the try clause? What is the purpose of the except clause?\n",
    "ans:In Python, the try and except clauses are used for exception handling.\n",
    "The purpose of the try clause is to enclose a block of code that might raise an exception.\n",
    "The try clause works by monitoring the code inside it for errors or exceptions.\n",
    "\n",
    "If an error occurs in the try block, the control is transferred to the except block.\n",
    "The purpose of the except clause is to catch and handle the exception that was raised in the try block.\n",
    "The except block contains the code that should be executed if an exception is raised in the try block.\n",
    "try:\n",
    "    # Code that might raise an exception\n",
    "except ExceptionType:\n",
    "    # Code to handle the exception"
   ]
  }
 ],
 "metadata": {
  "kernelspec": {
   "display_name": "Python 3 (ipykernel)",
   "language": "python",
   "name": "python3"
  },
  "language_info": {
   "codemirror_mode": {
    "name": "ipython",
    "version": 3
   },
   "file_extension": ".py",
   "mimetype": "text/x-python",
   "name": "python",
   "nbconvert_exporter": "python",
   "pygments_lexer": "ipython3",
   "version": "3.10.2"
  }
 },
 "nbformat": 4,
 "nbformat_minor": 5
}
