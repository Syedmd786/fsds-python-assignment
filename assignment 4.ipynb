{
 "cells": [
  {
   "cell_type": "code",
   "execution_count": null,
   "id": "bc5f29a4",
   "metadata": {},
   "outputs": [],
   "source": [
    "1. What exactly is []?\n",
    "ans:In Python, [] is used to represent an empty list.\n",
    "    A list is a data structure that can store multiple values of the same or different data types.\n",
    "    An empty list contains no elements and can be used as a starting point for adding elements or for checking whether a list is empty."
   ]
  },
  {
   "cell_type": "code",
   "execution_count": null,
   "id": "0738d127",
   "metadata": {},
   "outputs": [],
   "source": [
    "2. In a list of values stored in a variable called spam, how would you assign the value 'hello' as the\n",
    "third value? (Assume [2, 4, 6, 8, 10] are in spam.\n",
    "             \n",
    "ans:spam = [2, 4, 6, 8, 10]\n",
    "           spam[2] = 'hello'\n",
    "            output:[2, 4, 'hello', 8, 10]\n",
    "             "
   ]
  },
  {
   "cell_type": "code",
   "execution_count": null,
   "id": "91892c3f",
   "metadata": {},
   "outputs": [],
   "source": [
    "Let pretend the spam includes the list ['a','b','c','d'] for the next three queries.\n",
    "3. What is the value of spam[int(int('3' * 2) / 11)]?\n",
    "4. What is the value of spam[-1]?\n",
    "5. What is the value of spam[:2]?\n",
    "ans 3:the output will be d\n",
    "ans 4:the output will be 'd'\n",
    "ans 5:the output will be ['a', 'b']"
   ]
  },
  {
   "cell_type": "code",
   "execution_count": null,
   "id": "a1e856bd",
   "metadata": {},
   "outputs": [],
   "source": [
    "Let pretend bacon has the list [3.14,'cat',11, 'cat',True] for the next three questions.\n",
    "6. What is the value of bacon.index('cat')?\n",
    "7. How does bacon.append(99) change the look of the list value in bacon?\n",
    "8. How does bacon.remove('cat') change the look of the list in bacon?\n",
    "ans 6:1\n",
    "ans 7:None\n",
    "ans 8:None"
   ]
  },
  {
   "cell_type": "code",
   "execution_count": null,
   "id": "0123b95e",
   "metadata": {},
   "outputs": [],
   "source": [
    "9 What are the list concatenation and list replication operators?\n",
    "ans 9:In Python, the list concatenation operator is the + symbol, and the list replication operator is the * symbol.\n",
    "\n",
    "List concatenation operator +:\n",
    "The + operator concatenates two lists, creating a new list that contains all the elements of the original lists in order.\n",
    "Here is an example:\n",
    "    list1 = [1, 2, 3]\n",
    "    list2 = [4, 5, 6]\n",
    "    concatenated_list = list1 + list2\n",
    "    print(concatenated_list)\n",
    "    output:[1, 2, 3, 4, 5, 6]\n",
    "    List replication operator *:\n",
    "The * operator replicates a list by creating a new list that contains multiple copies of the original list.\n",
    "Here is an example:\n",
    "    list1 = [1, 2, 3]\n",
    "    replicated_list = list1 * 3\n",
    "    print(replicated_list)\n",
    "    output:[1, 2, 3, 1, 2, 3, 1, 2, 3]\n",
    "In Python, the list concatenation operator is the + symbol, and the list replication operator is the * symbol.\n",
    "\n",
    "List concatenation operator +:\n",
    "The + operator concatenates two lists, creating a new list that contains all the elements of the original lists in order. Here is an example:\n",
    "\n",
    "list1 = [1, 2, 3]\n",
    "list2 = [4, 5, 6]\n",
    "concatenated_list = list1 + list2\n",
    "print(concatenated_list)\n",
    "Output:\n",
    "        [1, 2, 3, 4, 5, 6]\n",
    "List replication operator *:\n",
    "The * operator replicates a list by creating a new list that contains multiple copies of the original list. Here is an example:\n",
    "\n",
    "list1 = [1, 2, 3]\n",
    "replicated_list = list1 * 3\n",
    "print(replicated_list)\n",
    "Output:\n",
    "       [1, 2, 3, 1, 2, 3, 1, 2, 3]\n"
   ]
  },
  {
   "cell_type": "code",
   "execution_count": null,
   "id": "7a973397",
   "metadata": {},
   "outputs": [],
   "source": [
    "10. What is difference between the list methods append() and insert()?\n",
    "ans 10:\n",
    "     In Python, both append() and insert() are methods that can be used to add elements to a list, but they have different behaviors:\n",
    "1 append() method:\n",
    "The append() method is used to add an element to the end of the list.\n",
    "It takes a single argument, which is the element to be added, and adds it to the end of the list.\n",
    "Here is an example:\n",
    "           my_list = [1, 2, 3]\n",
    "           my_list.append(4)\n",
    "            print(my_list)\n",
    "Output:\n",
    "    [1, 2, 3, 4]\n",
    "2insert() method:\n",
    "The insert() method is used to add an element to a specific position in the list.\n",
    "It takes two arguments: the first argument is the index where the element should be added, and the second argument is the element to be added.\n",
    "    Here is an example:\n",
    "        my_list = [1, 2, 3]\n",
    "        my_list.insert(1, 5)\n",
    "        print(my_list)\n",
    "    In Python, both append() and insert() are methods that can be used to add elements to a list, but they have different behaviors:\n",
    "\n",
    "append() method:\n",
    "The append() method is used to add an element to the end of the list. It takes a single argument, which is the element to be added, and adds it to the end of the list. Here is an example:\n",
    "scss\n",
    "Copy code\n",
    "my_list = [1, 2, 3]\n",
    "my_list.append(4)\n",
    "print(my_list)\n",
    "Output:\n",
    "\n",
    "csharp\n",
    "Copy code\n",
    "[1, 2, 3, 4]\n",
    "In the above example, the append() method added the value 4 to the end of the list my_list.\n",
    "\n",
    "insert() method:\n",
    "The insert() method is used to add an element to a specific position in the list. It takes two arguments: the first argument is the index where the element should be added, and the second argument is the element to be added.\n",
    "    Here is an example:\n",
    "my_list = [1, 2, 3]\n",
    "my_list.insert(1, 5)\n",
    "print(my_list)\n",
    "Output:\n",
    "    [1, 5, 2, 3]\n",
    "In the above example, the insert() method added the value 5 to the index 1 of the list my_list, which moved the value 2 and 3 to the right by one position."
   ]
  },
  {
   "cell_type": "code",
   "execution_count": null,
   "id": "4d8192ed",
   "metadata": {},
   "outputs": [],
   "source": [
    "11. What are the two methods for removing items from a list?\n",
    "ans 11:In Python, there are two commonly used methods for removing items from a list: remove() and pop()."
   ]
  },
  {
   "cell_type": "code",
   "execution_count": null,
   "id": "161bf00a",
   "metadata": {},
   "outputs": [],
   "source": [
    "12. Describe how list values and string values are identical.\n",
    "ans 12:Lists and strings are both types of sequences in Python, and they share some similarities. \n",
    "    Here are some ways in which list values and string values are identical:\n",
    "        1 Both can be accessed using indexing\n",
    "        2 Both can be concatenated\n",
    "        3Both can be replicated"
   ]
  },
  {
   "cell_type": "code",
   "execution_count": null,
   "id": "58868df0",
   "metadata": {},
   "outputs": [],
   "source": [
    "13. What is the difference between tuples and lists?\n",
    "ans 13:Tuples and lists are both used to store collections of values in Python, but they have some key differences in their properties and usage.\n",
    "        1 Mutability:\n",
    "        The most important difference between tuples and lists is that tuples are immutable, while lists are mutable.\n",
    "        This means that once a tuple is created, its contents cannot be changed, whereas a list can be modified by adding, removing, or changing elements.\n",
    "        Syntax:\n",
    "        Tuples are defined using parentheses () and commas ,, while lists are defined using square brackets [] and commas ,.\n",
    "        Usage:\n",
    "        Tuples are typically used to store related pieces of data that belong together, such as coordinates or database records.\n",
    "        They are also useful for returning multiple values from a function.\n",
    "        Lists, on the other hand, are more versatile and can be used to store any collection of items.\n",
    "        They are often used for things like storing data that will be modified or sorted."
   ]
  },
  {
   "cell_type": "code",
   "execution_count": null,
   "id": "e37715aa",
   "metadata": {},
   "outputs": [],
   "source": [
    "14. How do you type a tuple value that only contains the integer 42?\n",
    "my_tuple = (42)"
   ]
  },
  {
   "cell_type": "code",
   "execution_count": null,
   "id": "0e19a73f",
   "metadata": {},
   "outputs": [],
   "source": [
    "15. How do you get a list values tuple form? How do you get a tuple values list form?\n",
    "ans :To get a tuple from a list of values, you can simply pass the list to the tuple() function like this:\n",
    "     my_list = [1, 2, 3]\n",
    "    my_tuple = tuple(my_list)\n",
    "      print(my_tuple)\n",
    "        This will create a tuple with the same elements as the original list.\n",
    "        To get a list from a tuple of values, you can use the list() function in a similar way:\n",
    "         my_tuple = (1, 2, 3)\n",
    "         my_list = list(my_tuple)\n",
    "          print(my_list)\n",
    "   This will create a list with the same elements as the original tuple."
   ]
  },
  {
   "cell_type": "code",
   "execution_count": null,
   "id": "bc6f5e6a",
   "metadata": {},
   "outputs": [],
   "source": [
    "16. Variables that \"contain\" list values are not necessarily lists themselves. Instead, what do they\n",
    "contain?\n",
    "ans:Variables that \"contain\" list values in Python are actually storing a reference to a list object in memory, rather than the list values themselves. In other words, the variable points to the memory location where the list is stored, rather than storing the list directly.\n",
    "\n",
    "This means that if you assign a list to multiple variables, they will all point to the same memory location, and any changes made to the list through one variable will affect all other variables pointing to the same list."
   ]
  },
  {
   "cell_type": "code",
   "execution_count": null,
   "id": "c35b477e",
   "metadata": {},
   "outputs": [],
   "source": [
    "17. How do you distinguish between copy.copy() and copy.deepcopy()?\n",
    "   Both copy.copy() and copy.deepcopy() are functions in Pythons built-in copy module that allow you to create a copy of a mutable object such as a list or a dictionary.\n",
    "    However, they differ in how they create the copy and how deeply they copy nested objects.\n",
    "    copy.copy() creates a shallow copy of the object, which means that it creates a new object with a new memory address, but the internal references to any nested objects still point to the original object.\n",
    "    In other words, it only copies the top-level object, but any nested objects within it are still references to the original objects.\n",
    "    \n",
    "    copy.deepcopy() creates a deep copy of the object, which means that it creates a completely new object with new memory addresses for all nested objects within the original object.\n",
    "    In other words, it recursively copies all nested objects as well."
   ]
  }
 ],
 "metadata": {
  "kernelspec": {
   "display_name": "Python 3 (ipykernel)",
   "language": "python",
   "name": "python3"
  },
  "language_info": {
   "codemirror_mode": {
    "name": "ipython",
    "version": 3
   },
   "file_extension": ".py",
   "mimetype": "text/x-python",
   "name": "python",
   "nbconvert_exporter": "python",
   "pygments_lexer": "ipython3",
   "version": "3.10.2"
  }
 },
 "nbformat": 4,
 "nbformat_minor": 5
}
