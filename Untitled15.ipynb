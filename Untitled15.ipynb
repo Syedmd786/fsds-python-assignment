{
 "cells": [
  {
   "cell_type": "code",
   "execution_count": null,
   "id": "ac8d8e74",
   "metadata": {},
   "outputs": [],
   "source": [
    "1.What are the two values of the Boolean data type? How do you write them?\n",
    "The Boolean data type has two values: True and False.\n",
    "These values are written in Python using the keywords True and False, respectively.\n",
    "Here's an example of how you might use these values in a Python program:\n",
    "israining='true'\n",
    "issunny='false'\n",
    "if israining:\n",
    "    print('please bring the umbrella')\n",
    "else \n",
    "    print('do not bring the umbrella')\n",
    "if issunny:\n",
    "    print('it is sunny day')\n",
    "else\n",
    "    print('it is not a sunny day')"
   ]
  },
  {
   "cell_type": "code",
   "execution_count": null,
   "id": "fb1bd8b5",
   "metadata": {},
   "outputs": [],
   "source": [
    "2. What are the three different types of Boolean operators?\n",
    "\n",
    " There are three different Boolean operators:\n",
    "\n",
    "1 AND (&&): This operator returns true if both operands are true, and false if either operand is false.\n",
    "\n",
    "2 OR (||): This operator returns true if either operand is true, and false if both operands are false.\n",
    "\n",
    "3 NOT (!): This operator returns true if the operand is false, and false if the operand is true."
   ]
  },
  {
   "cell_type": "code",
   "execution_count": null,
   "id": "4dcc89d2",
   "metadata": {},
   "outputs": [],
   "source": [
    "3. Make a list of each Boolean operator truth tables (i.e. every possible combination of Boolean\n",
    "values for the operator and what it evaluate .\n",
    "                                                      \n",
    "and(&&):truth table\n",
    " A     B      RESULT\n",
    " T     T       True                                        \n",
    " T     F       False\n",
    " F     T       False                                       \n",
    " F     F       False       \n",
    "                                                      \n",
    "                                                      \n",
    "or(||):truth table\n",
    "                                                      \n",
    " A     B       RESULT\n",
    " T     T        True\n",
    " T     F        True\n",
    " F     T        True\n",
    " F     F        False\n",
    " \n",
    "Not(!):Truth table\n",
    "A       RESULT\n",
    "True     False\n",
    "False    True                                                  "
   ]
  },
  {
   "cell_type": "code",
   "execution_count": null,
   "id": "e2c7fe35",
   "metadata": {},
   "outputs": [],
   "source": [
    "4. What are the values of the following expressions?\n",
    "(5 > 4) and (3 == 5)   => 'False'\n",
    "not (5 > 4)            => 'False'\n",
    "(5 > 4) or (3 == 5)    => 'True'\n",
    "not ((5 > 4) or (3 == 5))    =>'False'\n",
    "(True and True) and (True == False)  =>'False'\n",
    "(not False) or (not True) =>'True'"
   ]
  },
  {
   "cell_type": "code",
   "execution_count": null,
   "id": "1d94bb9f",
   "metadata": {},
   "outputs": [],
   "source": [
    "5. What are the six comparison operators?\n",
    "In Python, the six comparison operators are:\n",
    "\n",
    "1) ==: Equal to\n",
    "2) !=: Not equal to\n",
    "3) <: Less than\n",
    "4) >: Greater than\n",
    "5) <=: Less than or equal to\n",
    "6) >=: Greater than or equal to\n",
    "These operators are used to compare two values and return a boolean value (True or False) depending on the result of the comparison.\n",
    "For example:\n",
    "    x = 5\n",
    "    y = 7\n",
    "\n",
    " print(x == y)  # False\n",
    " print(x != y)  # True\n",
    " print(x < y)   # True\n",
    " print(x > y)   # False\n",
    " print(x <= y)  # True\n",
    " print(x >= y)  # False\n"
   ]
  },
  {
   "cell_type": "code",
   "execution_count": null,
   "id": "2da414f1",
   "metadata": {},
   "outputs": [],
   "source": [
    "6. How do you tell the difference between the equal to and assignment operators?Describe a\n",
    "condition and when you would use one.\n",
    "In Python, the equal to operator (==) is used to compare the values of two variables or expressions and determine if they are equal.\n",
    "For example:\n",
    "    x = 5\n",
    "    y = 5\n",
    "print(x == y)  # True\n",
    "On the other hand, the assignment operator (=) is used to assign a value to a variable.\n",
    "For example:\n",
    "    x = 5\n",
    "Its important to note that the equal to operator (==) is used for comparison, while the assignment operator (=) is used for assignment. \n",
    "You would use the equal to operator to compare two values or expressions, and you would use the assignment operator to assign a value to a variable."
   ]
  },
  {
   "cell_type": "code",
   "execution_count": null,
   "id": "af127553",
   "metadata": {},
   "outputs": [],
   "source": [
    "7. Identify the three blocks in this code:\n",
    "spam = 0\n",
    "if spam == 10:\n",
    "print('eggs')\n",
    "if spam > 5:\n",
    "print('bacon')\n",
    "else:\n",
    "print('ham')\n",
    "print('spam')\n",
    "print('spam')\n",
    "it will print like:\n",
    "ham\n",
    "spam\n",
    "spam  \n",
    "\n"
   ]
  },
  {
   "cell_type": "code",
   "execution_count": null,
   "id": "92f7b7c3",
   "metadata": {},
   "outputs": [],
   "source": [
    "8. Write code that prints Hello if 1 is stored in spam, prints Howdy if 2 is stored in spam, and prints\n",
    "Greetings! if anything else is stored in spam.\n",
    "spam=input('enter the value of spam')\n",
    "if spam == '1':\n",
    "   print('Hello')\n",
    "elif spam =='2':\n",
    "   print('Howdy')\n",
    "else:\n",
    "   print('Greetings!')\n"
   ]
  },
  {
   "cell_type": "code",
   "execution_count": null,
   "id": "1b8d797f",
   "metadata": {},
   "outputs": [],
   "source": []
  }
 ],
 "metadata": {
  "kernelspec": {
   "display_name": "Python 3 (ipykernel)",
   "language": "python",
   "name": "python3"
  },
  "language_info": {
   "codemirror_mode": {
    "name": "ipython",
    "version": 3
   },
   "file_extension": ".py",
   "mimetype": "text/x-python",
   "name": "python",
   "nbconvert_exporter": "python",
   "pygments_lexer": "ipython3",
   "version": "3.10.2"
  }
 },
 "nbformat": 4,
 "nbformat_minor": 5
}
