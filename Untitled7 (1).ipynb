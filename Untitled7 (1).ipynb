{
 "cells": [
  {
   "cell_type": "raw",
   "id": "5ec4689d",
   "metadata": {},
   "source": [
    "# 1. In the below elements which of them are values or an expression? eg:- values can be\n",
    "integer or string and expressions will be mathematical operators.\n",
    "*\n",
    "'hello'\n",
    "-87.8\n",
    "-\n",
    "/\n",
    "+\n",
    "6\n",
    "ans: values='hello',-87.8,6\n",
    "expression:*,-,/,+"
   ]
  },
  {
   "cell_type": "code",
   "execution_count": null,
   "id": "bd2f682e",
   "metadata": {},
   "outputs": [],
   "source": [
    "2. What is the difference between string and variable?\n",
    "string:it is a data type\n",
    "varible:it is name given to address where we store diffrent thing like interger values,string values etc.\n",
    "    "
   ]
  },
  {
   "cell_type": "code",
   "execution_count": null,
   "id": "548165cf",
   "metadata": {},
   "outputs": [],
   "source": [
    "3. Describe three different data types.\n",
    "three diffrent data types are:\n",
    "    integer data type -int\n",
    "    int:it is use store integer number \n",
    "    floating data type-float\n",
    "    float:it is use to store decimal number\n",
    "    string:use to store string"
   ]
  },
  {
   "cell_type": "code",
   "execution_count": null,
   "id": "ba0d81ab",
   "metadata": {},
   "outputs": [],
   "source": [
    "4. What is an expression made up of? What do all expressions do?\n",
    "An expression is a combination of operators and operands that is interpreted to produce some other value.\n",
    "it repressent the value like a=10*5\n",
    "so it is a expression which has a value 50."
   ]
  },
  {
   "cell_type": "code",
   "execution_count": null,
   "id": "e4610f5a",
   "metadata": {},
   "outputs": [],
   "source": [
    "5. This assignment statements, like spam = 10. What is the difference between an\n",
    "expression and a statement?\n",
    "In programming language terminology, an “expression” is a combination of values and functions that are combined and interpreted by the compiler to create a new value, as opposed to a “statement” which is just a standalone unit of execution and doesn't return anything."
   ]
  },
  {
   "cell_type": "code",
   "execution_count": 1,
   "id": "3b7d4e78",
   "metadata": {},
   "outputs": [],
   "source": [
    "6. After running the following code, what does the variable bacon contain?\n",
    "bacon = 22\n",
    "bacon + 1\n",
    "bacon is 22 after add 1 it become 23\n"
   ]
  },
  {
   "cell_type": "code",
   "execution_count": null,
   "id": "4b08e7de",
   "metadata": {},
   "outputs": [],
   "source": [
    "7. What should the values of the following two terms be?\n",
    "'spam'+'spamspam'\n",
    "'spam'*3\n",
    "\n",
    "the answe of both is same that is \n",
    "spamspamspam"
   ]
  },
  {
   "cell_type": "code",
   "execution_count": null,
   "id": "50524919",
   "metadata": {},
   "outputs": [],
   "source": [
    "8. Why is eggs a valid variable name while 100 is invalid?\n",
    "because eggs not a reserve keyword,itcontain alphabel which is allowed,it does not start with a number\n",
    "100 is a number(ie it start with a number which is not allowed)so it is not a valid varible\n"
   ]
  },
  {
   "cell_type": "code",
   "execution_count": null,
   "id": "a836cbb1",
   "metadata": {},
   "outputs": [],
   "source": [
    "9. What three functions can be used to get the integer, floating-point number, or string\n",
    "version of a value?\n",
    "int() , float() , and str( )"
   ]
  },
  {
   "cell_type": "code",
   "execution_count": null,
   "id": "b4adb7f6",
   "metadata": {},
   "outputs": [],
   "source": [
    "10. Why does this expression cause an error? How can you fix it?\n",
    "'i have eaten'+99+'burritos'\n",
    "it causes a error because 99 is not a string to fix it i just make 99 as string by adding this\"\"\n",
    "'i have eaten'+'99'+'burritos'"
   ]
  }
 ],
 "metadata": {
  "kernelspec": {
   "display_name": "Python 3 (ipykernel)",
   "language": "python",
   "name": "python3"
  },
  "language_info": {
   "codemirror_mode": {
    "name": "ipython",
    "version": 3
   },
   "file_extension": ".py",
   "mimetype": "text/x-python",
   "name": "python",
   "nbconvert_exporter": "python",
   "pygments_lexer": "ipython3",
   "version": "3.9.12"
  }
 },
 "nbformat": 4,
 "nbformat_minor": 5
}
